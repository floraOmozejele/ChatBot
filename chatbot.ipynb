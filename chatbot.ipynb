{
 "cells": [
  {
   "cell_type": "code",
   "execution_count": 1,
   "metadata": {},
   "outputs": [
    {
     "name": "stderr",
     "output_type": "stream",
     "text": [
      "[nltk_data] Downloading package stopwords to\n",
      "[nltk_data]     C:\\Users\\flora\\AppData\\Roaming\\nltk_data...\n",
      "[nltk_data]   Package stopwords is already up-to-date!\n",
      "[nltk_data] Downloading package punkt to\n",
      "[nltk_data]     C:\\Users\\flora\\AppData\\Roaming\\nltk_data...\n",
      "[nltk_data]   Package punkt is already up-to-date!\n",
      "[nltk_data] Downloading package wordnet to\n",
      "[nltk_data]     C:\\Users\\flora\\AppData\\Roaming\\nltk_data...\n",
      "[nltk_data]   Package wordnet is already up-to-date!\n"
     ]
    },
    {
     "data": {
      "text/plain": [
       "True"
      ]
     },
     "execution_count": 1,
     "metadata": {},
     "output_type": "execute_result"
    }
   ],
   "source": [
    "import nltk\n",
    "import random\n",
    "from sklearn.feature_extraction.text import TfidfVectorizer\n",
    "from sklearn.metrics.pairwise import cosine_similarity      \n",
    "import pandas as pd\n",
    "import warnings\n",
    "warnings.filterwarnings('ignore')\n",
    "# import spacy\n",
    "lemmatizer = nltk.stem.WordNetLemmatizer()\n",
    "\n",
    "# Download required NLTK data\n",
    "nltk.download('stopwords')\n",
    "nltk.download('punkt')\n",
    "nltk.download('wordnet')"
   ]
  },
  {
   "cell_type": "code",
   "execution_count": 2,
   "metadata": {},
   "outputs": [
    {
     "data": {
      "text/html": [
       "<div>\n",
       "<style scoped>\n",
       "    .dataframe tbody tr th:only-of-type {\n",
       "        vertical-align: middle;\n",
       "    }\n",
       "\n",
       "    .dataframe tbody tr th {\n",
       "        vertical-align: top;\n",
       "    }\n",
       "\n",
       "    .dataframe thead th {\n",
       "        text-align: right;\n",
       "    }\n",
       "</style>\n",
       "<table border=\"1\" class=\"dataframe\">\n",
       "  <thead>\n",
       "    <tr style=\"text-align: right;\">\n",
       "      <th></th>\n",
       "      <th>0</th>\n",
       "      <th>1</th>\n",
       "    </tr>\n",
       "  </thead>\n",
       "  <tbody>\n",
       "    <tr>\n",
       "      <th>0</th>\n",
       "      <td>Customer</td>\n",
       "      <td>Hi, I'm looking to buy a new phone, and I'm i...</td>\n",
       "    </tr>\n",
       "    <tr>\n",
       "      <th>1</th>\n",
       "      <td>Sales Agent</td>\n",
       "      <td>Great, we have a wide range of Samsung phones...</td>\n",
       "    </tr>\n",
       "    <tr>\n",
       "      <th>2</th>\n",
       "      <td>Customer</td>\n",
       "      <td>Well, I want a phone with a good camera, long...</td>\n",
       "    </tr>\n",
       "    <tr>\n",
       "      <th>3</th>\n",
       "      <td>Sales Agent</td>\n",
       "      <td>Absolutely. We have a lot of great options th...</td>\n",
       "    </tr>\n",
       "    <tr>\n",
       "      <th>4</th>\n",
       "      <td>Customer</td>\n",
       "      <td>No, I haven't. Tell me more about it.</td>\n",
       "    </tr>\n",
       "    <tr>\n",
       "      <th>5</th>\n",
       "      <td>Sales Agent</td>\n",
       "      <td>The Galaxy S21 Ultra has a 108-megapixel came...</td>\n",
       "    </tr>\n",
       "    <tr>\n",
       "      <th>6</th>\n",
       "      <td>Customer</td>\n",
       "      <td>That sounds great. How much does it cost?</td>\n",
       "    </tr>\n",
       "    <tr>\n",
       "      <th>7</th>\n",
       "      <td>Sales Agent</td>\n",
       "      <td>The Galaxy S21 Ultra starts at $1,199, but we...</td>\n",
       "    </tr>\n",
       "    <tr>\n",
       "      <th>8</th>\n",
       "      <td>Customer</td>\n",
       "      <td>Okay, I'm interested. But I have a few more q...</td>\n",
       "    </tr>\n",
       "    <tr>\n",
       "      <th>9</th>\n",
       "      <td>Sales Agent</td>\n",
       "      <td>The Galaxy S21 Ultra comes with a standard on...</td>\n",
       "    </tr>\n",
       "    <tr>\n",
       "      <th>10</th>\n",
       "      <td>Customer</td>\n",
       "      <td>That's good to know. And what about the opera...</td>\n",
       "    </tr>\n",
       "    <tr>\n",
       "      <th>11</th>\n",
       "      <td>Sales Agent</td>\n",
       "      <td>Yes, the Galaxy S21 Ultra runs on Android 11,...</td>\n",
       "    </tr>\n",
       "    <tr>\n",
       "      <th>12</th>\n",
       "      <td>Customer</td>\n",
       "      <td>Okay, that's good. But I'm also interested in...</td>\n",
       "    </tr>\n",
       "    <tr>\n",
       "      <th>13</th>\n",
       "      <td>Sales Agent</td>\n",
       "      <td>Absolutely. The Galaxy A52 is a great mid-ran...</td>\n",
       "    </tr>\n",
       "    <tr>\n",
       "      <th>14</th>\n",
       "      <td>Customer</td>\n",
       "      <td>That sounds like a good option for me. How mu...</td>\n",
       "    </tr>\n",
       "    <tr>\n",
       "      <th>15</th>\n",
       "      <td>Sales Agent</td>\n",
       "      <td>The Galaxy A52 starts at $399, but again, we ...</td>\n",
       "    </tr>\n",
       "    <tr>\n",
       "      <th>16</th>\n",
       "      <td>Customer</td>\n",
       "      <td>Okay, I'll think about it. But can you also t...</td>\n",
       "    </tr>\n",
       "    <tr>\n",
       "      <th>17</th>\n",
       "      <td>Sales Agent</td>\n",
       "      <td>Of course. The Galaxy Z Fold2 is a really uni...</td>\n",
       "    </tr>\n",
       "    <tr>\n",
       "      <th>18</th>\n",
       "      <td>Customer</td>\n",
       "      <td>That sounds really cool, but it also sounds e...</td>\n",
       "    </tr>\n",
       "    <tr>\n",
       "      <th>19</th>\n",
       "      <td>Sales Agent</td>\n",
       "      <td>The Galaxy Z Fold2 starts at $1,999, but agai...</td>\n",
       "    </tr>\n",
       "    <tr>\n",
       "      <th>20</th>\n",
       "      <td>Customer</td>\n",
       "      <td>Hmm, I'm not sure. That's a lot of money for ...</td>\n",
       "    </tr>\n",
       "    <tr>\n",
       "      <th>21</th>\n",
       "      <td>Sales Agent</td>\n",
       "      <td>I understand. The Galaxy Z Fold2 is definitel...</td>\n",
       "    </tr>\n",
       "    <tr>\n",
       "      <th>22</th>\n",
       "      <td>Customer</td>\n",
       "      <td>Okay, can you tell me more about the Galaxy A72?</td>\n",
       "    </tr>\n",
       "    <tr>\n",
       "      <th>23</th>\n",
       "      <td>Sales Agent</td>\n",
       "      <td>Sure, the Galaxy A72 is another great mid-ran...</td>\n",
       "    </tr>\n",
       "    <tr>\n",
       "      <th>24</th>\n",
       "      <td>Customer</td>\n",
       "      <td>That sounds like a great option for me. How m...</td>\n",
       "    </tr>\n",
       "    <tr>\n",
       "      <th>25</th>\n",
       "      <td>Sales Agent</td>\n",
       "      <td>The Galaxy A72 starts at $449, but as I menti...</td>\n",
       "    </tr>\n",
       "    <tr>\n",
       "      <th>26</th>\n",
       "      <td>Customer</td>\n",
       "      <td>Okay, I'll definitely consider it. But before...</td>\n",
       "    </tr>\n",
       "    <tr>\n",
       "      <th>27</th>\n",
       "      <td>Sales Agent</td>\n",
       "      <td>Of course. We have a few different financing ...</td>\n",
       "    </tr>\n",
       "    <tr>\n",
       "      <th>28</th>\n",
       "      <td>Customer</td>\n",
       "      <td>That's good to know. And what if I have issue...</td>\n",
       "    </tr>\n",
       "    <tr>\n",
       "      <th>29</th>\n",
       "      <td>Sales Agent</td>\n",
       "      <td>Yes, we offer a lot of support options for ou...</td>\n",
       "    </tr>\n",
       "    <tr>\n",
       "      <th>30</th>\n",
       "      <td>Customer</td>\n",
       "      <td>Okay, that sounds great. I think I'm interest...</td>\n",
       "    </tr>\n",
       "    <tr>\n",
       "      <th>31</th>\n",
       "      <td>Sales Agent</td>\n",
       "      <td>Great, I'm glad to hear that. To buy the phon...</td>\n",
       "    </tr>\n",
       "    <tr>\n",
       "      <th>32</th>\n",
       "      <td>Customer</td>\n",
       "      <td>Okay, that sounds simple enough. Thanks for a...</td>\n",
       "    </tr>\n",
       "    <tr>\n",
       "      <th>33</th>\n",
       "      <td>Sales Agent</td>\n",
       "      <td>You're welcome. If you have any other questio...</td>\n",
       "    </tr>\n",
       "  </tbody>\n",
       "</table>\n",
       "</div>"
      ],
      "text/plain": [
       "              0                                                  1\n",
       "0      Customer   Hi, I'm looking to buy a new phone, and I'm i...\n",
       "1   Sales Agent   Great, we have a wide range of Samsung phones...\n",
       "2      Customer   Well, I want a phone with a good camera, long...\n",
       "3   Sales Agent   Absolutely. We have a lot of great options th...\n",
       "4      Customer              No, I haven't. Tell me more about it.\n",
       "5   Sales Agent   The Galaxy S21 Ultra has a 108-megapixel came...\n",
       "6      Customer          That sounds great. How much does it cost?\n",
       "7   Sales Agent   The Galaxy S21 Ultra starts at $1,199, but we...\n",
       "8      Customer   Okay, I'm interested. But I have a few more q...\n",
       "9   Sales Agent   The Galaxy S21 Ultra comes with a standard on...\n",
       "10     Customer   That's good to know. And what about the opera...\n",
       "11  Sales Agent   Yes, the Galaxy S21 Ultra runs on Android 11,...\n",
       "12     Customer   Okay, that's good. But I'm also interested in...\n",
       "13  Sales Agent   Absolutely. The Galaxy A52 is a great mid-ran...\n",
       "14     Customer   That sounds like a good option for me. How mu...\n",
       "15  Sales Agent   The Galaxy A52 starts at $399, but again, we ...\n",
       "16     Customer   Okay, I'll think about it. But can you also t...\n",
       "17  Sales Agent   Of course. The Galaxy Z Fold2 is a really uni...\n",
       "18     Customer   That sounds really cool, but it also sounds e...\n",
       "19  Sales Agent   The Galaxy Z Fold2 starts at $1,999, but agai...\n",
       "20     Customer   Hmm, I'm not sure. That's a lot of money for ...\n",
       "21  Sales Agent   I understand. The Galaxy Z Fold2 is definitel...\n",
       "22     Customer   Okay, can you tell me more about the Galaxy A72?\n",
       "23  Sales Agent   Sure, the Galaxy A72 is another great mid-ran...\n",
       "24     Customer   That sounds like a great option for me. How m...\n",
       "25  Sales Agent   The Galaxy A72 starts at $449, but as I menti...\n",
       "26     Customer   Okay, I'll definitely consider it. But before...\n",
       "27  Sales Agent   Of course. We have a few different financing ...\n",
       "28     Customer   That's good to know. And what if I have issue...\n",
       "29  Sales Agent   Yes, we offer a lot of support options for ou...\n",
       "30     Customer   Okay, that sounds great. I think I'm interest...\n",
       "31  Sales Agent   Great, I'm glad to hear that. To buy the phon...\n",
       "32     Customer   Okay, that sounds simple enough. Thanks for a...\n",
       "33  Sales Agent   You're welcome. If you have any other questio..."
      ]
     },
     "execution_count": 2,
     "metadata": {},
     "output_type": "execute_result"
    }
   ],
   "source": [
    "data = pd.read_csv('Samsung Dialog.txt', sep = ':', header = None)\n",
    "data"
   ]
  },
  {
   "cell_type": "code",
   "execution_count": 3,
   "metadata": {},
   "outputs": [
    {
     "data": {
      "text/html": [
       "<div>\n",
       "<style scoped>\n",
       "    .dataframe tbody tr th:only-of-type {\n",
       "        vertical-align: middle;\n",
       "    }\n",
       "\n",
       "    .dataframe tbody tr th {\n",
       "        vertical-align: top;\n",
       "    }\n",
       "\n",
       "    .dataframe thead th {\n",
       "        text-align: right;\n",
       "    }\n",
       "</style>\n",
       "<table border=\"1\" class=\"dataframe\">\n",
       "  <thead>\n",
       "    <tr style=\"text-align: right;\">\n",
       "      <th></th>\n",
       "      <th>Question</th>\n",
       "      <th>Answer</th>\n",
       "    </tr>\n",
       "  </thead>\n",
       "  <tbody>\n",
       "    <tr>\n",
       "      <th>0</th>\n",
       "      <td>Hi, I'm looking to buy a new phone, and I'm i...</td>\n",
       "      <td>Great, we have a wide range of Samsung phones...</td>\n",
       "    </tr>\n",
       "    <tr>\n",
       "      <th>1</th>\n",
       "      <td>Well, I want a phone with a good camera, long...</td>\n",
       "      <td>Absolutely. We have a lot of great options th...</td>\n",
       "    </tr>\n",
       "    <tr>\n",
       "      <th>2</th>\n",
       "      <td>No, I haven't. Tell me more about it.</td>\n",
       "      <td>The Galaxy S21 Ultra has a 108-megapixel came...</td>\n",
       "    </tr>\n",
       "    <tr>\n",
       "      <th>3</th>\n",
       "      <td>That sounds great. How much does it cost?</td>\n",
       "      <td>The Galaxy S21 Ultra starts at $1,199, but we...</td>\n",
       "    </tr>\n",
       "    <tr>\n",
       "      <th>4</th>\n",
       "      <td>Okay, I'm interested. But I have a few more q...</td>\n",
       "      <td>The Galaxy S21 Ultra comes with a standard on...</td>\n",
       "    </tr>\n",
       "  </tbody>\n",
       "</table>\n",
       "</div>"
      ],
      "text/plain": [
       "                                            Question  \\\n",
       "0   Hi, I'm looking to buy a new phone, and I'm i...   \n",
       "1   Well, I want a phone with a good camera, long...   \n",
       "2              No, I haven't. Tell me more about it.   \n",
       "3          That sounds great. How much does it cost?   \n",
       "4   Okay, I'm interested. But I have a few more q...   \n",
       "\n",
       "                                              Answer  \n",
       "0   Great, we have a wide range of Samsung phones...  \n",
       "1   Absolutely. We have a lot of great options th...  \n",
       "2   The Galaxy S21 Ultra has a 108-megapixel came...  \n",
       "3   The Galaxy S21 Ultra starts at $1,199, but we...  \n",
       "4   The Galaxy S21 Ultra comes with a standard on...  "
      ]
     },
     "execution_count": 3,
     "metadata": {},
     "output_type": "execute_result"
    }
   ],
   "source": [
    "cust = data.loc[data[0] == 'Customer']\n",
    "sales = data.loc[data[0] == 'Sales Agent']\n",
    "\n",
    "sales = sales[1].reset_index(drop = True)\n",
    "cust = cust[1].reset_index(drop = True)\n",
    "\n",
    "new_data = pd.DataFrame()\n",
    "new_data['Question'] = cust\n",
    "new_data['Answer'] = sales\n",
    "\n",
    "new_data.head()\n"
   ]
  },
  {
   "cell_type": "code",
   "execution_count": 4,
   "metadata": {},
   "outputs": [
    {
     "data": {
      "text/html": [
       "<div>\n",
       "<style scoped>\n",
       "    .dataframe tbody tr th:only-of-type {\n",
       "        vertical-align: middle;\n",
       "    }\n",
       "\n",
       "    .dataframe tbody tr th {\n",
       "        vertical-align: top;\n",
       "    }\n",
       "\n",
       "    .dataframe thead th {\n",
       "        text-align: right;\n",
       "    }\n",
       "</style>\n",
       "<table border=\"1\" class=\"dataframe\">\n",
       "  <thead>\n",
       "    <tr style=\"text-align: right;\">\n",
       "      <th></th>\n",
       "      <th>Question</th>\n",
       "      <th>Answer</th>\n",
       "      <th>tokenized Questions</th>\n",
       "    </tr>\n",
       "  </thead>\n",
       "  <tbody>\n",
       "    <tr>\n",
       "      <th>0</th>\n",
       "      <td>Hi, I'm looking to buy a new phone, and I'm i...</td>\n",
       "      <td>Great, we have a wide range of Samsung phones...</td>\n",
       "      <td>hi i looking to buy a new phone and i interest...</td>\n",
       "    </tr>\n",
       "    <tr>\n",
       "      <th>1</th>\n",
       "      <td>Well, I want a phone with a good camera, long...</td>\n",
       "      <td>Absolutely. We have a lot of great options th...</td>\n",
       "      <td>well i want a phone with a good camera long ba...</td>\n",
       "    </tr>\n",
       "    <tr>\n",
       "      <th>2</th>\n",
       "      <td>No, I haven't. Tell me more about it.</td>\n",
       "      <td>The Galaxy S21 Ultra has a 108-megapixel came...</td>\n",
       "      <td>no i have tell me more about it</td>\n",
       "    </tr>\n",
       "    <tr>\n",
       "      <th>3</th>\n",
       "      <td>That sounds great. How much does it cost?</td>\n",
       "      <td>The Galaxy S21 Ultra starts at $1,199, but we...</td>\n",
       "      <td>that sound great how much doe it cost</td>\n",
       "    </tr>\n",
       "    <tr>\n",
       "      <th>4</th>\n",
       "      <td>Okay, I'm interested. But I have a few more q...</td>\n",
       "      <td>The Galaxy S21 Ultra comes with a standard on...</td>\n",
       "      <td>okay i interested but i have a few more questi...</td>\n",
       "    </tr>\n",
       "    <tr>\n",
       "      <th>5</th>\n",
       "      <td>That's good to know. And what about the opera...</td>\n",
       "      <td>Yes, the Galaxy S21 Ultra runs on Android 11,...</td>\n",
       "      <td>that good to know and what about the operating...</td>\n",
       "    </tr>\n",
       "    <tr>\n",
       "      <th>6</th>\n",
       "      <td>Okay, that's good. But I'm also interested in...</td>\n",
       "      <td>Absolutely. The Galaxy A52 is a great mid-ran...</td>\n",
       "      <td>okay that good but i also interested in some o...</td>\n",
       "    </tr>\n",
       "    <tr>\n",
       "      <th>7</th>\n",
       "      <td>That sounds like a good option for me. How mu...</td>\n",
       "      <td>The Galaxy A52 starts at $399, but again, we ...</td>\n",
       "      <td>that sound like a good option for me how much ...</td>\n",
       "    </tr>\n",
       "    <tr>\n",
       "      <th>8</th>\n",
       "      <td>Okay, I'll think about it. But can you also t...</td>\n",
       "      <td>Of course. The Galaxy Z Fold2 is a really uni...</td>\n",
       "      <td>okay i think about it but can you also tell me...</td>\n",
       "    </tr>\n",
       "    <tr>\n",
       "      <th>9</th>\n",
       "      <td>That sounds really cool, but it also sounds e...</td>\n",
       "      <td>The Galaxy Z Fold2 starts at $1,999, but agai...</td>\n",
       "      <td>that sound really cool but it also sound expen...</td>\n",
       "    </tr>\n",
       "    <tr>\n",
       "      <th>10</th>\n",
       "      <td>Hmm, I'm not sure. That's a lot of money for ...</td>\n",
       "      <td>I understand. The Galaxy Z Fold2 is definitel...</td>\n",
       "      <td>hmm i not sure that a lot of money for a phone</td>\n",
       "    </tr>\n",
       "    <tr>\n",
       "      <th>11</th>\n",
       "      <td>Okay, can you tell me more about the Galaxy A72?</td>\n",
       "      <td>Sure, the Galaxy A72 is another great mid-ran...</td>\n",
       "      <td>okay can you tell me more about the galaxy a72</td>\n",
       "    </tr>\n",
       "    <tr>\n",
       "      <th>12</th>\n",
       "      <td>That sounds like a great option for me. How m...</td>\n",
       "      <td>The Galaxy A72 starts at $449, but as I menti...</td>\n",
       "      <td>that sound like a great option for me how much...</td>\n",
       "    </tr>\n",
       "    <tr>\n",
       "      <th>13</th>\n",
       "      <td>Okay, I'll definitely consider it. But before...</td>\n",
       "      <td>Of course. We have a few different financing ...</td>\n",
       "      <td>okay i definitely consider it but before i mak...</td>\n",
       "    </tr>\n",
       "    <tr>\n",
       "      <th>14</th>\n",
       "      <td>That's good to know. And what if I have issue...</td>\n",
       "      <td>Yes, we offer a lot of support options for ou...</td>\n",
       "      <td>that good to know and what if i have issue wit...</td>\n",
       "    </tr>\n",
       "    <tr>\n",
       "      <th>15</th>\n",
       "      <td>Okay, that sounds great. I think I'm interest...</td>\n",
       "      <td>Great, I'm glad to hear that. To buy the phon...</td>\n",
       "      <td>okay that sound great i think i interested in ...</td>\n",
       "    </tr>\n",
       "    <tr>\n",
       "      <th>16</th>\n",
       "      <td>Okay, that sounds simple enough. Thanks for a...</td>\n",
       "      <td>You're welcome. If you have any other questio...</td>\n",
       "      <td>okay that sound simple enough thanks for all y...</td>\n",
       "    </tr>\n",
       "  </tbody>\n",
       "</table>\n",
       "</div>"
      ],
      "text/plain": [
       "                                             Question  \\\n",
       "0    Hi, I'm looking to buy a new phone, and I'm i...   \n",
       "1    Well, I want a phone with a good camera, long...   \n",
       "2               No, I haven't. Tell me more about it.   \n",
       "3           That sounds great. How much does it cost?   \n",
       "4    Okay, I'm interested. But I have a few more q...   \n",
       "5    That's good to know. And what about the opera...   \n",
       "6    Okay, that's good. But I'm also interested in...   \n",
       "7    That sounds like a good option for me. How mu...   \n",
       "8    Okay, I'll think about it. But can you also t...   \n",
       "9    That sounds really cool, but it also sounds e...   \n",
       "10   Hmm, I'm not sure. That's a lot of money for ...   \n",
       "11   Okay, can you tell me more about the Galaxy A72?   \n",
       "12   That sounds like a great option for me. How m...   \n",
       "13   Okay, I'll definitely consider it. But before...   \n",
       "14   That's good to know. And what if I have issue...   \n",
       "15   Okay, that sounds great. I think I'm interest...   \n",
       "16   Okay, that sounds simple enough. Thanks for a...   \n",
       "\n",
       "                                               Answer  \\\n",
       "0    Great, we have a wide range of Samsung phones...   \n",
       "1    Absolutely. We have a lot of great options th...   \n",
       "2    The Galaxy S21 Ultra has a 108-megapixel came...   \n",
       "3    The Galaxy S21 Ultra starts at $1,199, but we...   \n",
       "4    The Galaxy S21 Ultra comes with a standard on...   \n",
       "5    Yes, the Galaxy S21 Ultra runs on Android 11,...   \n",
       "6    Absolutely. The Galaxy A52 is a great mid-ran...   \n",
       "7    The Galaxy A52 starts at $399, but again, we ...   \n",
       "8    Of course. The Galaxy Z Fold2 is a really uni...   \n",
       "9    The Galaxy Z Fold2 starts at $1,999, but agai...   \n",
       "10   I understand. The Galaxy Z Fold2 is definitel...   \n",
       "11   Sure, the Galaxy A72 is another great mid-ran...   \n",
       "12   The Galaxy A72 starts at $449, but as I menti...   \n",
       "13   Of course. We have a few different financing ...   \n",
       "14   Yes, we offer a lot of support options for ou...   \n",
       "15   Great, I'm glad to hear that. To buy the phon...   \n",
       "16   You're welcome. If you have any other questio...   \n",
       "\n",
       "                                  tokenized Questions  \n",
       "0   hi i looking to buy a new phone and i interest...  \n",
       "1   well i want a phone with a good camera long ba...  \n",
       "2                     no i have tell me more about it  \n",
       "3               that sound great how much doe it cost  \n",
       "4   okay i interested but i have a few more questi...  \n",
       "5   that good to know and what about the operating...  \n",
       "6   okay that good but i also interested in some o...  \n",
       "7   that sound like a good option for me how much ...  \n",
       "8   okay i think about it but can you also tell me...  \n",
       "9   that sound really cool but it also sound expen...  \n",
       "10     hmm i not sure that a lot of money for a phone  \n",
       "11     okay can you tell me more about the galaxy a72  \n",
       "12  that sound like a great option for me how much...  \n",
       "13  okay i definitely consider it but before i mak...  \n",
       "14  that good to know and what if i have issue wit...  \n",
       "15  okay that sound great i think i interested in ...  \n",
       "16  okay that sound simple enough thanks for all y...  "
      ]
     },
     "execution_count": 4,
     "metadata": {},
     "output_type": "execute_result"
    }
   ],
   "source": [
    "# Define a function for text preprocessing (including lemmatization)\n",
    "def preprocess_text(text):\n",
    "    # Identifies all sentences in the data\n",
    "    sentences = nltk.sent_tokenize(text)\n",
    "    \n",
    "    # Tokenize and lemmatize each word in each sentence\n",
    "    preprocessed_sentences = []\n",
    "    for sentence in sentences:\n",
    "        tokens = [lemmatizer.lemmatize(word.lower()) for word in nltk.word_tokenize(sentence) if word.isalnum()]\n",
    "        # Turns to basic root - each word in the tokenized word found in the tokenized sentence - if they are all alphanumeric \n",
    "        # The code above does the following:\n",
    "        # Identifies every word in the sentence \n",
    "        # Turns it to a lower case \n",
    "        # Lemmatizes it if the word is alphanumeric\n",
    "\n",
    "        preprocessed_sentence = ' '.join(tokens)\n",
    "        preprocessed_sentences.append(preprocessed_sentence)\n",
    "    \n",
    "    return ' '.join(preprocessed_sentences)\n",
    "\n",
    "\n",
    "new_data['tokenized Questions'] = new_data['Question'].apply(preprocess_text)\n",
    "new_data"
   ]
  },
  {
   "cell_type": "code",
   "execution_count": 5,
   "metadata": {},
   "outputs": [
    {
     "data": {
      "text/plain": [
       "['hi i looking to buy a new phone and i interested in samsung phone',\n",
       " 'well i want a phone with a good camera long battery life and plenty of storage',\n",
       " 'no i have tell me more about it',\n",
       " 'that sound great how much doe it cost',\n",
       " 'okay i interested but i have a few more question what kind of warranty come with the phone',\n",
       " 'that good to know and what about the operating system doe it come with the latest version of android',\n",
       " 'okay that good but i also interested in some of the other samsung phone can you tell me more about the galaxy a52',\n",
       " 'that sound like a good option for me how much doe it cost',\n",
       " 'okay i think about it but can you also tell me about the galaxy z fold2 i heard a lot about it and i curious',\n",
       " 'that sound really cool but it also sound expensive how much doe it cost',\n",
       " 'hmm i not sure that a lot of money for a phone',\n",
       " 'okay can you tell me more about the galaxy a72',\n",
       " 'that sound like a great option for me how much doe it cost',\n",
       " 'okay i definitely consider it but before i make a decision can you tell me more about the financing option',\n",
       " 'that good to know and what if i have issue with the phone do you offer any support',\n",
       " 'okay that sound great i think i interested in the galaxy a72 how do i go about buying it',\n",
       " 'okay that sound simple enough thanks for all your help']"
      ]
     },
     "execution_count": 5,
     "metadata": {},
     "output_type": "execute_result"
    }
   ],
   "source": [
    "xtrain = new_data['tokenized Questions'].to_list()\n",
    "xtrain "
   ]
  },
  {
   "cell_type": "code",
   "execution_count": 6,
   "metadata": {},
   "outputs": [
    {
     "name": "stdout",
     "output_type": "stream",
     "text": [
      "  (0, 71)\t0.3011232459093611\n",
      "  (0, 41)\t0.2700934382194581\n",
      "  (0, 42)\t0.2460248494975018\n",
      "  (0, 5)\t0.22635938061087743\n",
      "  (0, 67)\t0.4194649271573511\n",
      "  (0, 58)\t0.34485730351794186\n",
      "  (0, 11)\t0.34485730351794186\n",
      "  (0, 84)\t0.2700934382194581\n",
      "  (0, 51)\t0.34485730351794186\n",
      "  (0, 37)\t0.34485730351794186\n",
      "  (1, 75)\t0.3135527535104317\n",
      "  (1, 61)\t0.2058115236343365\n",
      "  (1, 68)\t0.3135527535104317\n",
      "  (1, 48)\t0.3135527535104317\n",
      "  (1, 8)\t0.3135527535104317\n",
      "  (1, 50)\t0.3135527535104317\n",
      "  (1, 13)\t0.3135527535104317\n",
      "  (1, 32)\t0.2058115236343365\n",
      "  (1, 90)\t0.22369185226757943\n",
      "  (1, 86)\t0.3135527535104317\n",
      "  (1, 88)\t0.3135527535104317\n",
      "  (1, 5)\t0.2058115236343365\n",
      "  (1, 67)\t0.19069392118064465\n",
      "  (2, 44)\t0.2707901771636704\n",
      "  (2, 2)\t0.30884634876971573\n",
      "  :\t:\n",
      "  (15, 31)\t0.33865461688136433\n",
      "  (15, 22)\t0.2957071705810691\n",
      "  (15, 1)\t0.2957071705810691\n",
      "  (15, 83)\t0.2957071705810691\n",
      "  (15, 30)\t0.2415997872161552\n",
      "  (15, 82)\t0.17934057989570892\n",
      "  (15, 63)\t0.19181632811123442\n",
      "  (15, 39)\t0.22228802619600418\n",
      "  (15, 33)\t0.26523547249629936\n",
      "  (15, 74)\t0.2059601649037593\n",
      "  (15, 81)\t0.15808525176743862\n",
      "  (15, 44)\t0.16818064283109027\n",
      "  (15, 2)\t0.19181632811123442\n",
      "  (15, 41)\t0.26523547249629936\n",
      "  (15, 42)\t0.2415997872161552\n",
      "  (16, 36)\t0.3671721695795806\n",
      "  (16, 92)\t0.3671721695795806\n",
      "  (16, 3)\t0.3671721695795806\n",
      "  (16, 80)\t0.3671721695795806\n",
      "  (16, 24)\t0.3671721695795806\n",
      "  (16, 72)\t0.3671721695795806\n",
      "  (16, 29)\t0.26194451107452843\n",
      "  (16, 63)\t0.2079688681110264\n",
      "  (16, 74)\t0.22330373432107462\n",
      "  (16, 81)\t0.17139735286797672\n"
     ]
    }
   ],
   "source": [
    "# Vectorize corpus\n",
    "tfidf_vectorizer = TfidfVectorizer()\n",
    "corpus = tfidf_vectorizer.fit_transform(xtrain)\n",
    "\n",
    "print(corpus)"
   ]
  },
  {
   "cell_type": "code",
   "execution_count": 7,
   "metadata": {},
   "outputs": [
    {
     "name": "stdout",
     "output_type": "stream",
     "text": [
      "i need a phone\n"
     ]
    }
   ],
   "source": [
    "user = input('Pls ask your question')\n",
    "print(user)"
   ]
  },
  {
   "cell_type": "code",
   "execution_count": 8,
   "metadata": {},
   "outputs": [
    {
     "data": {
      "text/plain": [
       "'i need a phone'"
      ]
     },
     "execution_count": 8,
     "metadata": {},
     "output_type": "execute_result"
    }
   ],
   "source": [
    "preprocess_text(user)"
   ]
  },
  {
   "cell_type": "code",
   "execution_count": 9,
   "metadata": {},
   "outputs": [
    {
     "name": "stdout",
     "output_type": "stream",
     "text": [
      "  (0, 67)\t1.0\n"
     ]
    }
   ],
   "source": [
    "# vectorize user input \n",
    "user_transformed = tfidf_vectorizer.transform([user])\n",
    "print(user_transformed)"
   ]
  },
  {
   "cell_type": "code",
   "execution_count": 10,
   "metadata": {},
   "outputs": [
    {
     "data": {
      "text/plain": [
       "array([[0.41946493, 0.19069392, 0.        , 0.        , 0.19974086,\n",
       "        0.        , 0.17724721, 0.        , 0.        , 0.        ,\n",
       "        0.24249352, 0.        , 0.        , 0.        , 0.18308115,\n",
       "        0.        , 0.        ]])"
      ]
     },
     "execution_count": 10,
     "metadata": {},
     "output_type": "execute_result"
    }
   ],
   "source": [
    "# find similarity \n",
    "similarity_scores = cosine_similarity(user_transformed, corpus)\n",
    "similarity_scores"
   ]
  },
  {
   "cell_type": "code",
   "execution_count": 11,
   "metadata": {},
   "outputs": [
    {
     "data": {
      "text/plain": [
       "' Great, we have a wide range of Samsung phones to choose from. What features are you looking for in a phone?'"
      ]
     },
     "execution_count": 11,
     "metadata": {},
     "output_type": "execute_result"
    }
   ],
   "source": [
    "new_data['Answer'].iloc[similarity_scores.argmax()]"
   ]
  },
  {
   "cell_type": "code",
   "execution_count": 12,
   "metadata": {},
   "outputs": [
    {
     "name": "stdout",
     "output_type": "stream",
     "text": [
      "i need a phone \n"
     ]
    }
   ],
   "source": [
    "user = input('Pls ask your question')\n",
    "print(user)"
   ]
  },
  {
   "cell_type": "code",
   "execution_count": 13,
   "metadata": {},
   "outputs": [
    {
     "data": {
      "text/plain": [
       "'i need a phone'"
      ]
     },
     "execution_count": 13,
     "metadata": {},
     "output_type": "execute_result"
    }
   ],
   "source": [
    "preprocess_text(user)"
   ]
  },
  {
   "cell_type": "code",
   "execution_count": 14,
   "metadata": {},
   "outputs": [
    {
     "name": "stdout",
     "output_type": "stream",
     "text": [
      "  (0, 67)\t1.0\n"
     ]
    }
   ],
   "source": [
    "# vectorize user input \n",
    "user_transformed = tfidf_vectorizer.transform([user])\n",
    "print(user_transformed)"
   ]
  },
  {
   "cell_type": "code",
   "execution_count": 15,
   "metadata": {},
   "outputs": [
    {
     "data": {
      "text/plain": [
       "array([[0.41946493, 0.19069392, 0.        , 0.        , 0.19974086,\n",
       "        0.        , 0.17724721, 0.        , 0.        , 0.        ,\n",
       "        0.24249352, 0.        , 0.        , 0.        , 0.18308115,\n",
       "        0.        , 0.        ]])"
      ]
     },
     "execution_count": 15,
     "metadata": {},
     "output_type": "execute_result"
    }
   ],
   "source": [
    "# find similarity \n",
    "similarity_scores = cosine_similarity(user_transformed, corpus)\n",
    "similarity_scores"
   ]
  },
  {
   "cell_type": "code",
   "execution_count": 16,
   "metadata": {},
   "outputs": [
    {
     "data": {
      "text/plain": [
       "' Great, we have a wide range of Samsung phones to choose from. What features are you looking for in a phone?'"
      ]
     },
     "execution_count": 16,
     "metadata": {},
     "output_type": "execute_result"
    }
   ],
   "source": [
    "new_data['Answer'].iloc[similarity_scores.argmax()]"
   ]
  },
  {
   "cell_type": "code",
   "execution_count": 17,
   "metadata": {},
   "outputs": [],
   "source": [
    "def collector():\n",
    "    user = input('Pls ask your question: ')\n",
    "    pre_user = preprocess_text(user)\n",
    "    vect_user = tfidf_vectorizer.transform([pre_user])\n",
    "    similarity_scores = cosine_similarity(vect_user, corpus)\n",
    "    most_similar_index = similarity_scores.argmax()\n",
    "    \n",
    "    return new_data['Answer'].iloc[most_similar_index]\n"
   ]
  },
  {
   "cell_type": "code",
   "execution_count": 18,
   "metadata": {},
   "outputs": [
    {
     "data": {
      "text/plain": [
       "\" You're welcome. If you have any other questions or concerns, don't hesitate to reach out to us. We're always here to help.\""
      ]
     },
     "execution_count": 18,
     "metadata": {},
     "output_type": "execute_result"
    }
   ],
   "source": [
    "collector()"
   ]
  },
  {
   "cell_type": "code",
   "execution_count": 19,
   "metadata": {},
   "outputs": [
    {
     "ename": "KeyboardInterrupt",
     "evalue": "Interrupted by user",
     "output_type": "error",
     "traceback": [
      "\u001b[1;31m---------------------------------------------------------------------------\u001b[0m",
      "\u001b[1;31mKeyboardInterrupt\u001b[0m                         Traceback (most recent call last)",
      "Cell \u001b[1;32mIn[19], line 29\u001b[0m\n\u001b[0;32m     26\u001b[0m random_farewell \u001b[38;5;241m=\u001b[39m random\u001b[38;5;241m.\u001b[39mchoice(bot_farewell)\n\u001b[0;32m     28\u001b[0m \u001b[38;5;28;01mwhile\u001b[39;00m \u001b[38;5;28;01mTrue\u001b[39;00m:\n\u001b[1;32m---> 29\u001b[0m     user_input \u001b[38;5;241m=\u001b[39m \u001b[38;5;28;43minput\u001b[39;49m\u001b[43m(\u001b[49m\u001b[38;5;124;43m'\u001b[39;49m\u001b[38;5;124;43mYou: \u001b[39;49m\u001b[38;5;124;43m'\u001b[39;49m\u001b[43m)\u001b[49m\n\u001b[0;32m     31\u001b[0m     \u001b[38;5;28;01mif\u001b[39;00m user_input\u001b[38;5;241m.\u001b[39mlower() \u001b[38;5;129;01min\u001b[39;00m human_greeting:\n\u001b[0;32m     32\u001b[0m         \u001b[38;5;28mprint\u001b[39m(random_greeting)\n",
      "File \u001b[1;32m~\\AppData\\Roaming\\Python\\Python311\\site-packages\\ipykernel\\kernelbase.py:1282\u001b[0m, in \u001b[0;36mKernel.raw_input\u001b[1;34m(self, prompt)\u001b[0m\n\u001b[0;32m   1280\u001b[0m     msg \u001b[38;5;241m=\u001b[39m \u001b[38;5;124m\"\u001b[39m\u001b[38;5;124mraw_input was called, but this frontend does not support input requests.\u001b[39m\u001b[38;5;124m\"\u001b[39m\n\u001b[0;32m   1281\u001b[0m     \u001b[38;5;28;01mraise\u001b[39;00m StdinNotImplementedError(msg)\n\u001b[1;32m-> 1282\u001b[0m \u001b[38;5;28;01mreturn\u001b[39;00m \u001b[38;5;28;43mself\u001b[39;49m\u001b[38;5;241;43m.\u001b[39;49m\u001b[43m_input_request\u001b[49m\u001b[43m(\u001b[49m\n\u001b[0;32m   1283\u001b[0m \u001b[43m    \u001b[49m\u001b[38;5;28;43mstr\u001b[39;49m\u001b[43m(\u001b[49m\u001b[43mprompt\u001b[49m\u001b[43m)\u001b[49m\u001b[43m,\u001b[49m\n\u001b[0;32m   1284\u001b[0m \u001b[43m    \u001b[49m\u001b[38;5;28;43mself\u001b[39;49m\u001b[38;5;241;43m.\u001b[39;49m\u001b[43m_parent_ident\u001b[49m\u001b[43m[\u001b[49m\u001b[38;5;124;43m\"\u001b[39;49m\u001b[38;5;124;43mshell\u001b[39;49m\u001b[38;5;124;43m\"\u001b[39;49m\u001b[43m]\u001b[49m\u001b[43m,\u001b[49m\n\u001b[0;32m   1285\u001b[0m \u001b[43m    \u001b[49m\u001b[38;5;28;43mself\u001b[39;49m\u001b[38;5;241;43m.\u001b[39;49m\u001b[43mget_parent\u001b[49m\u001b[43m(\u001b[49m\u001b[38;5;124;43m\"\u001b[39;49m\u001b[38;5;124;43mshell\u001b[39;49m\u001b[38;5;124;43m\"\u001b[39;49m\u001b[43m)\u001b[49m\u001b[43m,\u001b[49m\n\u001b[0;32m   1286\u001b[0m \u001b[43m    \u001b[49m\u001b[43mpassword\u001b[49m\u001b[38;5;241;43m=\u001b[39;49m\u001b[38;5;28;43;01mFalse\u001b[39;49;00m\u001b[43m,\u001b[49m\n\u001b[0;32m   1287\u001b[0m \u001b[43m\u001b[49m\u001b[43m)\u001b[49m\n",
      "File \u001b[1;32m~\\AppData\\Roaming\\Python\\Python311\\site-packages\\ipykernel\\kernelbase.py:1325\u001b[0m, in \u001b[0;36mKernel._input_request\u001b[1;34m(self, prompt, ident, parent, password)\u001b[0m\n\u001b[0;32m   1322\u001b[0m \u001b[38;5;28;01mexcept\u001b[39;00m \u001b[38;5;167;01mKeyboardInterrupt\u001b[39;00m:\n\u001b[0;32m   1323\u001b[0m     \u001b[38;5;66;03m# re-raise KeyboardInterrupt, to truncate traceback\u001b[39;00m\n\u001b[0;32m   1324\u001b[0m     msg \u001b[38;5;241m=\u001b[39m \u001b[38;5;124m\"\u001b[39m\u001b[38;5;124mInterrupted by user\u001b[39m\u001b[38;5;124m\"\u001b[39m\n\u001b[1;32m-> 1325\u001b[0m     \u001b[38;5;28;01mraise\u001b[39;00m \u001b[38;5;167;01mKeyboardInterrupt\u001b[39;00m(msg) \u001b[38;5;28;01mfrom\u001b[39;00m \u001b[38;5;28;01mNone\u001b[39;00m\n\u001b[0;32m   1326\u001b[0m \u001b[38;5;28;01mexcept\u001b[39;00m \u001b[38;5;167;01mException\u001b[39;00m:\n\u001b[0;32m   1327\u001b[0m     \u001b[38;5;28mself\u001b[39m\u001b[38;5;241m.\u001b[39mlog\u001b[38;5;241m.\u001b[39mwarning(\u001b[38;5;124m\"\u001b[39m\u001b[38;5;124mInvalid Message:\u001b[39m\u001b[38;5;124m\"\u001b[39m, exc_info\u001b[38;5;241m=\u001b[39m\u001b[38;5;28;01mTrue\u001b[39;00m)\n",
      "\u001b[1;31mKeyboardInterrupt\u001b[0m: Interrupted by user"
     ]
    }
   ],
   "source": [
    "def responder(text):\n",
    "    user_input_processed = preprocess_text(user_input)\n",
    "    vectorized_user_input = tfidf_vectorizer.transform([user_input_processed])\n",
    "    similarity_scores = cosine_similarity(vectorized_user_input, corpus)\n",
    "    argument_maximum = similarity_scores.argmax()\n",
    "    return new_data['Answer'].iloc[argument_maximum]\n",
    "\n",
    "bot_greetings = ['Hello user, You are chatting with Flora....How may i help you',\n",
    "             'Hi Dear, i am here if you need me',\n",
    "             'Hey, what do need me to do',\n",
    "             'Hello i am here for you',\n",
    "             'How can i be of help' ]\n",
    "\n",
    "bot_farewell = ['Thanks for your usage....bye',\n",
    "            'Alright dear...Hope to see you soon',\n",
    "            'Hope i was of help to know...Bye',\n",
    "            'Do you have anymore question you to ask....Bye',\n",
    "            'Thanks for reaching out...Hope i answer all your question...Bye']\n",
    "\n",
    "human_greeting = ['Hi', 'Hello There', 'Hiyya', 'Hey', 'hello', 'Wassup']\n",
    "\n",
    "human_exits = ['Thanks bye', 'bye', 'quite', 'exit', 'bye bye', 'close']\n",
    "\n",
    "import random\n",
    "random_greeting = random.choice(bot_greetings)\n",
    "random_farewell = random.choice(bot_farewell)\n",
    "\n",
    "while True:\n",
    "    user_input = input('You: ')\n",
    "\n",
    "    if user_input.lower() in human_greeting:\n",
    "        print(random_greeting)\n",
    "    elif user_input.lower() in human_exits:\n",
    "        print(random_farewell)\n",
    "        break\n",
    "    else:\n",
    "      responder(user_input)\n",
    "\n"
   ]
  },
  {
   "cell_type": "code",
   "execution_count": null,
   "metadata": {},
   "outputs": [],
   "source": [
    "def get_response(user_input):\n",
    "    user_input_processed = preprocess_text(user_input) # ....................... Preprocess the user's input using the preprocess_text function\n",
    "\n",
    "    user_input_vector = tfidf_vectorizer.transform([user_input_processed])# .... Vectorize the preprocessed user input using the TF-IDF vectorizer\n",
    "\n",
    "    similarity_scores = cosine_similarity(user_input_vector, corpus) # .. Calculate the score of similarity between the user input vector and the corpus (df) vector\n",
    "\n",
    "    most_similar_index = similarity_scores.argmax() # ..... Find the index of the most similar question in the corpus (df) based on cosine similarity\n",
    "\n",
    "    return new_data['Answer'].iloc[most_similar_index] # ... Retrieve the corresponding answer from the df DataFrame and return it as the chatbot's response\n",
    "\n",
    "# create greeting list \n",
    "greetings = [\"Hey There.... I am a creation of Ehiz Danny Agba Coder.... How can I help\",\n",
    "            \"Hi Human.... How can I help\",\n",
    "            'Twale baba nla, wetin dey happen nah',\n",
    "            'How far Alaye, wetin happen'\n",
    "            \"Good Day .... How can I help\", \n",
    "            \"Hello There... How can I be useful to you today\",\n",
    "            \"Hi GomyCode Student.... How can I be of use\"]\n",
    "\n",
    "exits = ['thanks bye', 'bye', 'quit', 'exit', 'bye bye', 'close']\n",
    "farewell = ['Thanks....see you soon', 'Babye, See you soon', 'Bye... See you later', 'Bye... come back soon']\n",
    "\n",
    "random_farewell = random.choice(farewell) # ---------------- Randomly select a farewell message from the list\n",
    "random_greetings = random.choice(greetings) # -------- Randomly select greeting message from the list\n",
    "\n",
    "# Test your chatbot\n",
    "while True:\n",
    "    user_input = input(\"You: \")\n",
    "    if user_input.lower() in exits:\n",
    "        print(f\"\\nChatbot: {random_farewell}!\")\n",
    "        break\n",
    "    if user_input.lower() in ['hi', 'hello', 'hey', 'hi there']:\n",
    "        print(f\"\\nChatbot: {random_greetings}!\")\n",
    "    else:   \n",
    "        response = get_response(user_input)\n",
    "        print(f\"\\nChatbot: {response}\")"
   ]
  },
  {
   "cell_type": "code",
   "execution_count": null,
   "metadata": {},
   "outputs": [],
   "source": []
  },
  {
   "cell_type": "code",
   "execution_count": null,
   "metadata": {},
   "outputs": [],
   "source": []
  }
 ],
 "metadata": {
  "kernelspec": {
   "display_name": "Python 3",
   "language": "python",
   "name": "python3"
  },
  "language_info": {
   "codemirror_mode": {
    "name": "ipython",
    "version": 3
   },
   "file_extension": ".py",
   "mimetype": "text/x-python",
   "name": "python",
   "nbconvert_exporter": "python",
   "pygments_lexer": "ipython3",
   "version": "3.11.9"
  }
 },
 "nbformat": 4,
 "nbformat_minor": 2
}
